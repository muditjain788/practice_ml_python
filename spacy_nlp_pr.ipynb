{
  "nbformat": 4,
  "nbformat_minor": 0,
  "metadata": {
    "colab": {
      "name": "spacy_nlp.ipynb",
      "version": "0.3.2",
      "provenance": [],
      "include_colab_link": true
    },
    "kernelspec": {
      "name": "python3",
      "display_name": "Python 3"
    }
  },
  "cells": [
    {
      "cell_type": "markdown",
      "metadata": {
        "id": "view-in-github",
        "colab_type": "text"
      },
      "source": [
        "<a href=\"https://colab.research.google.com/github/muditjain788/practice_ml_python/blob/master/spacy_nlp_pr.ipynb\" target=\"_parent\"><img src=\"https://colab.research.google.com/assets/colab-badge.svg\" alt=\"Open In Colab\"/></a>"
      ]
    },
    {
      "cell_type": "code",
      "metadata": {
        "id": "JydKu9LQfl_Y",
        "colab_type": "code",
        "colab": {}
      },
      "source": [
        "import spacy\n",
        "nlp=spacy.load('en')\n",
        "data=\"hello world i am going outside for playing cricket\"\n",
        "new_data=nlp(data)"
      ],
      "execution_count": 0,
      "outputs": []
    },
    {
      "cell_type": "code",
      "metadata": {
        "id": "SS6li9QcgNoy",
        "colab_type": "code",
        "outputId": "a99d6a6b-e09e-4fc2-ea94-2829a2c74f86",
        "colab": {
          "base_uri": "https://localhost:8080/",
          "height": 330
        }
      },
      "source": [
        "for i in new_data:\n",
        "  print(i,\"lemmatiztion is >\",i.lemma_)\n",
        "  print(i,\"POS\",i.pos_)\n",
        "        "
      ],
      "execution_count": 0,
      "outputs": [
        {
          "output_type": "stream",
          "text": [
            "hello lemmatiztion is > hello\n",
            "hello POS INTJ\n",
            "world lemmatiztion is > world\n",
            "world POS NOUN\n",
            "i lemmatiztion is > i\n",
            "i POS PRON\n",
            "am lemmatiztion is > be\n",
            "am POS VERB\n",
            "going lemmatiztion is > go\n",
            "going POS VERB\n",
            "outside lemmatiztion is > outside\n",
            "outside POS ADV\n",
            "for lemmatiztion is > for\n",
            "for POS ADP\n",
            "playing lemmatiztion is > play\n",
            "playing POS VERB\n",
            "cricket lemmatiztion is > cricket\n",
            "cricket POS NOUN\n"
          ],
          "name": "stdout"
        }
      ]
    },
    {
      "cell_type": "code",
      "metadata": {
        "id": "LDpOff0kgi0m",
        "colab_type": "code",
        "colab": {}
      },
      "source": [
        ""
      ],
      "execution_count": 0,
      "outputs": []
    }
  ]
}