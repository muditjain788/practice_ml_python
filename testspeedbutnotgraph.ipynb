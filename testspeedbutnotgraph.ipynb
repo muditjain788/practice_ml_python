{
  "nbformat": 4,
  "nbformat_minor": 0,
  "metadata": {
    "colab": {
      "name": "testspeedbutnotgraph.ipynb",
      "version": "0.3.2",
      "provenance": [],
      "include_colab_link": true
    },
    "kernelspec": {
      "name": "python3",
      "display_name": "Python 3"
    }
  },
  "cells": [
    {
      "cell_type": "markdown",
      "metadata": {
        "id": "view-in-github",
        "colab_type": "text"
      },
      "source": [
        "<a href=\"https://colab.research.google.com/github/muditjain788/practice_ml_python/blob/master/testspeedbutnotgraph.ipynb\" target=\"_parent\"><img src=\"https://colab.research.google.com/assets/colab-badge.svg\" alt=\"Open In Colab\"/></a>"
      ]
    },
    {
      "cell_type": "code",
      "metadata": {
        "id": "gbQlqkFOLh6a",
        "colab_type": "code",
        "colab": {
          "base_uri": "https://localhost:8080/",
          "height": 156
        },
        "outputId": "3eac8429-4fd5-4e8c-af40-cb50952e759d"
      },
      "source": [
        "!pip3 install pyspeedtest"
      ],
      "execution_count": 2,
      "outputs": [
        {
          "output_type": "stream",
          "text": [
            "Collecting pyspeedtest\n",
            "  Downloading https://files.pythonhosted.org/packages/83/b8/1fd99c76a49b2eb2f8f4d7ee335f5983d492b05d8e1bc091b7c7931ec613/pyspeedtest-1.2.7.tar.gz\n",
            "Building wheels for collected packages: pyspeedtest\n",
            "  Building wheel for pyspeedtest (setup.py) ... \u001b[?25l\u001b[?25hdone\n",
            "  Stored in directory: /root/.cache/pip/wheels/a7/d6/a0/0de26e9e1fafe24cc27f6e496101bf1b648298101c3d7db3c3\n",
            "Successfully built pyspeedtest\n",
            "Installing collected packages: pyspeedtest\n",
            "Successfully installed pyspeedtest-1.2.7\n"
          ],
          "name": "stdout"
        }
      ]
    },
    {
      "cell_type": "code",
      "metadata": {
        "id": "COUihRenLyLA",
        "colab_type": "code",
        "colab": {}
      },
      "source": [
        "import pyspeedtest"
      ],
      "execution_count": 0,
      "outputs": []
    },
    {
      "cell_type": "code",
      "metadata": {
        "id": "a8kg8-RSL5m6",
        "colab_type": "code",
        "colab": {
          "base_uri": "https://localhost:8080/",
          "height": 86
        },
        "outputId": "9dd4ddcd-c5f3-419a-9ba3-51f222bfef83"
      },
      "source": [
        "inp=input(\"enter url of site you want to test:\")\n",
        "st=pyspeedtest.SpeedTest(inp)\n",
        "p=st.ping()\n",
        "d=st.download()\n",
        "down=d/(1024*1024)\n",
        "print(\"download speed:\",down,\"Mbps\")\n",
        "print(\"\\nping\",p)"
      ],
      "execution_count": 14,
      "outputs": [
        {
          "output_type": "stream",
          "text": [
            "enter url of site you want to test:www.google.com\n",
            "download speed: 15.658316221765913 Mbps\n",
            "\n",
            "ping 0.6225705146789551\n"
          ],
          "name": "stdout"
        }
      ]
    }
  ]
}