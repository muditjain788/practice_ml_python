{
 "cells": [
  {
   "cell_type": "code",
   "execution_count": 2,
   "metadata": {},
   "outputs": [],
   "source": [
    "from sklearn.datasets import load_digits\n"
   ]
  },
  {
   "cell_type": "code",
   "execution_count": 3,
   "metadata": {},
   "outputs": [],
   "source": [
    "digits=load_digits()"
   ]
  },
  {
   "cell_type": "code",
   "execution_count": 4,
   "metadata": {},
   "outputs": [
    {
     "data": {
      "text/plain": [
       "sklearn.utils.Bunch"
      ]
     },
     "execution_count": 4,
     "metadata": {},
     "output_type": "execute_result"
    }
   ],
   "source": [
    "type(digits)"
   ]
  },
  {
   "cell_type": "code",
   "execution_count": 6,
   "metadata": {},
   "outputs": [
    {
     "data": {
      "text/plain": [
       "['DESCR', 'data', 'images', 'target', 'target_names']"
      ]
     },
     "execution_count": 6,
     "metadata": {},
     "output_type": "execute_result"
    }
   ],
   "source": [
    "dir(digits)"
   ]
  },
  {
   "cell_type": "code",
   "execution_count": 8,
   "metadata": {},
   "outputs": [],
   "source": [
    "features=digits.data"
   ]
  },
  {
   "cell_type": "code",
   "execution_count": 9,
   "metadata": {},
   "outputs": [],
   "source": [
    "label=digits.target"
   ]
  },
  {
   "cell_type": "code",
   "execution_count": 10,
   "metadata": {},
   "outputs": [],
   "source": [
    "from sklearn.model_selection import train_test_split"
   ]
  },
  {
   "cell_type": "code",
   "execution_count": 12,
   "metadata": {},
   "outputs": [],
   "source": [
    "X,x,Y,y=train_test_split(features,label,test_size=0.2)"
   ]
  },
  {
   "cell_type": "code",
   "execution_count": 16,
   "metadata": {},
   "outputs": [],
   "source": [
    "from sklearn.metrics import accuracy_score\n",
    "from sklearn.svm import SVC"
   ]
  },
  {
   "cell_type": "code",
   "execution_count": 17,
   "metadata": {},
   "outputs": [],
   "source": [
    "clf=SVC()"
   ]
  },
  {
   "cell_type": "code",
   "execution_count": 18,
   "metadata": {},
   "outputs": [
    {
     "data": {
      "text/plain": [
       "sklearn.svm.classes.SVC"
      ]
     },
     "execution_count": 18,
     "metadata": {},
     "output_type": "execute_result"
    }
   ],
   "source": [
    "type(clf)"
   ]
  },
  {
   "cell_type": "code",
   "execution_count": 19,
   "metadata": {},
   "outputs": [
    {
     "name": "stderr",
     "output_type": "stream",
     "text": [
      "/usr/local/lib64/python3.6/site-packages/sklearn/svm/base.py:193: FutureWarning: The default value of gamma will change from 'auto' to 'scale' in version 0.22 to account better for unscaled features. Set gamma explicitly to 'auto' or 'scale' to avoid this warning.\n",
      "  \"avoid this warning.\", FutureWarning)\n"
     ]
    }
   ],
   "source": [
    "training=clf.fit(X,Y)"
   ]
  },
  {
   "cell_type": "code",
   "execution_count": 20,
   "metadata": {},
   "outputs": [],
   "source": [
    "output=training.predict(x)"
   ]
  },
  {
   "cell_type": "code",
   "execution_count": 21,
   "metadata": {},
   "outputs": [
    {
     "data": {
      "text/plain": [
       "0.39166666666666666"
      ]
     },
     "execution_count": 21,
     "metadata": {},
     "output_type": "execute_result"
    }
   ],
   "source": [
    "accuracy_score(output,y)"
   ]
  },
  {
   "cell_type": "code",
   "execution_count": 22,
   "metadata": {},
   "outputs": [
    {
     "data": {
      "text/plain": [
       "array([3, 3, 3, 5, 3, 3, 3, 1, 3, 3, 3, 4, 3, 3, 3, 3, 3, 3, 7, 3, 3, 1,\n",
       "       5, 3, 1, 3, 3, 9, 6, 3, 3, 3, 0, 3, 3, 3, 3, 3, 6, 2, 5, 3, 3, 3,\n",
       "       3, 3, 3, 3, 3, 3, 1, 3, 0, 3, 3, 3, 3, 3, 3, 1, 3, 3, 5, 3, 4, 3,\n",
       "       3, 7, 6, 6, 3, 3, 3, 6, 3, 3, 2, 3, 3, 3, 1, 5, 0, 3, 3, 3, 3, 6,\n",
       "       3, 3, 0, 3, 3, 3, 3, 3, 3, 3, 3, 3, 0, 3, 3, 3, 3, 3, 3, 6, 3, 3,\n",
       "       4, 3, 3, 0, 3, 3, 3, 2, 9, 5, 3, 0, 3, 3, 3, 4, 3, 1, 3, 3, 3, 3,\n",
       "       3, 3, 0, 3, 3, 4, 3, 3, 3, 3, 4, 3, 3, 3, 3, 3, 3, 3, 3, 3, 3, 3,\n",
       "       3, 3, 0, 3, 3, 3, 6, 0, 2, 2, 3, 3, 3, 3, 3, 3, 4, 3, 8, 3, 3, 4,\n",
       "       4, 3, 5, 3, 3, 3, 3, 3, 3, 6, 0, 3, 4, 2, 6, 7, 1, 5, 3, 1, 5, 3,\n",
       "       3, 3, 3, 3, 6, 3, 3, 1, 3, 2, 3, 7, 3, 3, 3, 3, 1, 3, 3, 3, 3, 3,\n",
       "       3, 6, 3, 3, 3, 0, 3, 3, 2, 3, 3, 3, 3, 4, 3, 9, 3, 3, 5, 3, 3, 0,\n",
       "       4, 3, 3, 7, 2, 6, 4, 3, 3, 3, 3, 3, 7, 7, 3, 7, 2, 3, 3, 2, 5, 3,\n",
       "       5, 3, 0, 3, 5, 3, 6, 3, 3, 0, 3, 3, 5, 3, 2, 3, 3, 3, 3, 3, 3, 3,\n",
       "       3, 3, 3, 3, 3, 6, 3, 3, 4, 7, 3, 3, 3, 3, 3, 1, 3, 3, 3, 3, 3, 0,\n",
       "       3, 3, 9, 3, 3, 3, 3, 5, 3, 6, 3, 3, 3, 0, 1, 3, 3, 3, 4, 3, 1, 9,\n",
       "       3, 3, 3, 3, 0, 1, 3, 3, 3, 3, 3, 3, 0, 3, 3, 3, 3, 4, 3, 6, 3, 3,\n",
       "       3, 5, 3, 3, 3, 1, 6, 3])"
      ]
     },
     "execution_count": 22,
     "metadata": {},
     "output_type": "execute_result"
    }
   ],
   "source": [
    "output\n"
   ]
  },
  {
   "cell_type": "code",
   "execution_count": 23,
   "metadata": {},
   "outputs": [
    {
     "data": {
      "text/plain": [
       "array([9, 2, 0, 5, 1, 3, 4, 1, 2, 9, 5, 4, 3, 7, 0, 7, 0, 6, 7, 8, 2, 1,\n",
       "       5, 9, 1, 9, 7, 9, 6, 7, 4, 6, 0, 1, 1, 0, 1, 6, 6, 2, 5, 2, 9, 9,\n",
       "       3, 9, 8, 9, 2, 7, 1, 6, 0, 5, 2, 8, 1, 6, 3, 1, 2, 9, 5, 9, 4, 3,\n",
       "       4, 7, 6, 6, 7, 0, 2, 6, 8, 5, 2, 1, 8, 5, 1, 5, 0, 3, 8, 5, 7, 6,\n",
       "       0, 8, 0, 8, 7, 1, 8, 8, 0, 9, 8, 8, 0, 3, 2, 2, 2, 0, 3, 6, 8, 2,\n",
       "       4, 4, 3, 0, 9, 2, 3, 2, 9, 5, 8, 0, 5, 4, 3, 4, 4, 1, 9, 3, 6, 7,\n",
       "       6, 4, 0, 3, 8, 4, 9, 1, 4, 8, 4, 8, 2, 4, 9, 1, 2, 9, 7, 2, 3, 1,\n",
       "       1, 3, 0, 1, 6, 8, 6, 0, 2, 2, 9, 6, 3, 4, 2, 4, 4, 5, 8, 4, 5, 4,\n",
       "       4, 8, 5, 3, 8, 7, 4, 7, 5, 6, 0, 0, 4, 2, 6, 7, 1, 5, 7, 1, 5, 6,\n",
       "       7, 3, 7, 3, 6, 3, 1, 1, 9, 2, 3, 7, 6, 2, 4, 1, 1, 2, 8, 5, 1, 1,\n",
       "       6, 6, 9, 1, 7, 0, 8, 3, 2, 6, 9, 8, 3, 4, 8, 9, 8, 2, 5, 1, 2, 0,\n",
       "       4, 3, 7, 7, 2, 6, 4, 7, 4, 1, 8, 3, 7, 7, 5, 7, 2, 9, 3, 2, 5, 3,\n",
       "       5, 0, 0, 9, 5, 6, 6, 2, 8, 0, 6, 1, 5, 2, 2, 9, 0, 2, 6, 0, 7, 4,\n",
       "       4, 7, 8, 9, 2, 6, 3, 9, 4, 7, 5, 6, 6, 5, 1, 1, 8, 3, 8, 1, 9, 0,\n",
       "       1, 7, 9, 7, 7, 8, 2, 5, 9, 6, 1, 2, 8, 0, 1, 6, 8, 5, 4, 9, 1, 9,\n",
       "       8, 6, 6, 5, 0, 1, 7, 4, 7, 7, 5, 0, 0, 7, 9, 8, 5, 4, 9, 6, 6, 6,\n",
       "       1, 5, 1, 2, 7, 1, 6, 1])"
      ]
     },
     "execution_count": 23,
     "metadata": {},
     "output_type": "execute_result"
    }
   ],
   "source": [
    "y"
   ]
  },
  {
   "cell_type": "code",
   "execution_count": 28,
   "metadata": {},
   "outputs": [
    {
     "data": {
      "text/plain": [
       "<matplotlib.image.AxesImage at 0x7f2c5178e400>"
      ]
     },
     "execution_count": 28,
     "metadata": {},
     "output_type": "execute_result"
    },
    {
     "data": {
      "image/png": "[encoded data removed]",
      "text/plain": [
       "<Figure size 432x288 with 1 Axes>"
      ]
     },
     "metadata": {
      "needs_background": "light"
     },
     "output_type": "display_data"
    }
   ],
   "source": [
    "import matplotlib.pyplot as plt\n",
    "plt.imshow(digits.images[1])"
   ]
  },
  {
   "cell_type": "code",
   "execution_count": 27,
   "metadata": {},
   "outputs": [
    {
     "data": {
      "text/plain": [
       "<matplotlib.image.AxesImage at 0x7f2c4c014f60>"
      ]
     },
     "execution_count": 27,
     "metadata": {},
     "output_type": "execute_result"
    },
    {
     "data": {
      "image/png": "[encoded data removed]",
      "text/plain": [
       "<Figure size 432x288 with 1 Axes>"
      ]
     },
     "metadata": {
      "needs_background": "light"
     },
     "output_type": "display_data"
    }
   ],
   "source": [
    "import matplotlib.pyplot as plt\n",
    "plt.imshow(digits.images[0])"
   ]
  },
  {
   "cell_type": "code",
   "execution_count": 29,
   "metadata": {},
   "outputs": [
    {
     "data": {
      "text/plain": [
       "<matplotlib.image.AxesImage at 0x7f2c4b8fa400>"
      ]
     },
     "execution_count": 29,
     "metadata": {},
     "output_type": "execute_result"
    },
    {
     "data": {
      "image/png": "[encoded data removed]",
      "text/plain": [
       "<Figure size 432x288 with 1 Axes>"
      ]
     },
     "metadata": {
      "needs_background": "light"
     },
     "output_type": "display_data"
    }
   ],
   "source": [
    "import matplotlib.pyplot as plt\n",
    "plt.imshow(digits.images[9])"
   ]
  },
  {
   "cell_type": "code",
   "execution_count": 30,
   "metadata": {},
   "outputs": [
    {
     "data": {
      "text/plain": [
       "<matplotlib.image.AxesImage at 0x7f2c4b8d9278>"
      ]
     },
     "execution_count": 30,
     "metadata": {},
     "output_type": "execute_result"
    },
    {
     "data": {
      "image/png": "[encoded data removed]",
      "text/plain": [
       "<Figure size 432x288 with 1 Axes>"
      ]
     },
     "metadata": {
      "needs_background": "light"
     },
     "output_type": "display_data"
    }
   ],
   "source": [
    "import matplotlib.pyplot as plt\n",
    "plt.imshow(digits.images[10])"
   ]
  },
  {
   "cell_type": "code",
   "execution_count": 31,
   "metadata": {},
   "outputs": [
    {
     "data": {
      "text/plain": [
       "<matplotlib.image.AxesImage at 0x7f2c4b83a0f0>"
      ]
     },
     "execution_count": 31,
     "metadata": {},
     "output_type": "execute_result"
    },
    {
     "data": {
      "image/png": "[encoded data removed]",
      "text/plain": [
       "<Figure size 432x288 with 1 Axes>"
      ]
     },
     "metadata": {
      "needs_background": "light"
     },
     "output_type": "display_data"
    }
   ],
   "source": [
    "import matplotlib.pyplot as plt\n",
    "plt.imshow(digits.images[20])"
   ]
  },
  {
   "cell_type": "code",
   "execution_count": null,
   "metadata": {},
   "outputs": [],
   "source": []
  }
 ],
 "metadata": {
  "kernelspec": {
   "display_name": "Python 3",
   "language": "python",
   "name": "python3"
  },
  "language_info": {
   "codemirror_mode": {
    "name": "ipython",
    "version": 3
   },
   "file_extension": ".py",
   "mimetype": "text/x-python",
   "name": "python",
   "nbconvert_exporter": "python",
   "pygments_lexer": "ipython3",
   "version": "3.6.6"
  }
 },
 "nbformat": 4,
 "nbformat_minor": 2
}
